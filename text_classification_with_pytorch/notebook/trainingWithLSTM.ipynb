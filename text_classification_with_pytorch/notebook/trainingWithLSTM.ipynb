{
 "cells": [
  {
   "cell_type": "markdown",
   "metadata": {},
   "source": [
    "## Configs"
   ]
  },
  {
   "cell_type": "code",
   "execution_count": 16,
   "metadata": {},
   "outputs": [],
   "source": [
    "# define all the configurations here-\n",
    "MAX_LEN = 128\n",
    "TRAIN_BATCH_SIZE = 16\n",
    "VALID_BATCH_SIZE = 16\n",
    "EPOCHS = 10"
   ]
  },
  {
   "cell_type": "markdown",
   "metadata": {},
   "source": [
    "## LSTM MODEL"
   ]
  },
  {
   "cell_type": "code",
   "execution_count": 2,
   "metadata": {},
   "outputs": [],
   "source": [
    "import torch \n",
    "import torch.nn as nn"
   ]
  },
  {
   "cell_type": "code",
   "execution_count": 18,
   "metadata": {},
   "outputs": [],
   "source": [
    "class LSTM(nn.Module):\n",
    "    def __init__(self, embedding_matrix):\n",
    "        super(LSTM,self).__init__\n",
    "        \n",
    "        # num_words, emedding_dim = rows & columns of embedding_matrix \n",
    "        num_words, emeded_dim = embedding_matrix.shape[0], embedding_matrix.shape[1]\n",
    "        \n",
    "        self.embedding = nn.Embedding(num_embeddings=num_words, embedding_dim= embeded_dim)\n",
    "        \n",
    "        self.embedding.weight = nn.Parameter(embedding_matrix, requires_grad=False, dtype=torch.float32)\n",
    "        \n",
    "        self.lstm = nn.LSTM(embeded_dim, 128, bidirectional=True, batch_first=True)\n",
    "        \n",
    "        self.out = nn.Linear(512, 1)\n",
    "        \n",
    "    \n",
    "    def forward(self, x):\n",
    "        \n",
    "        x = self.embedding(x)\n",
    "        x, _ = self.lstm(x)\n",
    "        \n",
    "        avg_pool = torch.mean(x, 1)\n",
    "        max_pool = torch.max(x, 1)\n",
    "        \n",
    "        out = torch.cat((avg_pool, max_pool), 1)\n",
    "        \n",
    "        out = self.out(out)\n",
    "        \n",
    "        return out        "
   ]
  },
  {
   "cell_type": "code",
   "execution_count": 7,
   "metadata": {},
   "outputs": [],
   "source": []
  },
  {
   "cell_type": "code",
   "execution_count": null,
   "metadata": {},
   "outputs": [],
   "source": []
  },
  {
   "cell_type": "code",
   "execution_count": null,
   "metadata": {},
   "outputs": [],
   "source": []
  },
  {
   "cell_type": "markdown",
   "metadata": {},
   "source": [
    "## Preparing dataset"
   ]
  },
  {
   "cell_type": "code",
   "execution_count": 8,
   "metadata": {},
   "outputs": [],
   "source": [
    "import torch"
   ]
  },
  {
   "cell_type": "code",
   "execution_count": 13,
   "metadata": {},
   "outputs": [],
   "source": [
    "class IMDBDataset():\n",
    "    def __init__(self, review, target):\n",
    "        \"\"\"\n",
    "        :param review: dataframe\n",
    "        :param target: \n",
    "        \"\"\"\n",
    "        self.review = review\n",
    "        self.target = target\n",
    "        \n",
    "    def __len__(self):\n",
    "        return len(self.review)\n",
    "    \n",
    "    def __getitem__(self, idx):\n",
    "        review = self.review[idx, :]\n",
    "        target = self.target[idx]\n",
    "        \n",
    "        return {\n",
    "            \"reviews\" : torch.tensor(review, dtype=torch.long),\n",
    "            \"targets\" : torch.tensor(target, dtype=torch.float32)\n",
    "        }"
   ]
  },
  {
   "cell_type": "markdown",
   "metadata": {},
   "source": [
    "## Engine"
   ]
  },
  {
   "cell_type": "code",
   "execution_count": null,
   "metadata": {},
   "outputs": [],
   "source": []
  },
  {
   "cell_type": "code",
   "execution_count": null,
   "metadata": {},
   "outputs": [],
   "source": []
  },
  {
   "cell_type": "code",
   "execution_count": null,
   "metadata": {},
   "outputs": [],
   "source": []
  },
  {
   "cell_type": "code",
   "execution_count": null,
   "metadata": {},
   "outputs": [],
   "source": []
  },
  {
   "cell_type": "code",
   "execution_count": null,
   "metadata": {},
   "outputs": [],
   "source": []
  },
  {
   "cell_type": "code",
   "execution_count": null,
   "metadata": {},
   "outputs": [],
   "source": []
  },
  {
   "cell_type": "code",
   "execution_count": null,
   "metadata": {},
   "outputs": [],
   "source": []
  },
  {
   "cell_type": "code",
   "execution_count": null,
   "metadata": {},
   "outputs": [],
   "source": []
  },
  {
   "cell_type": "markdown",
   "metadata": {},
   "source": [
    "## Training"
   ]
  },
  {
   "cell_type": "code",
   "execution_count": 2,
   "metadata": {},
   "outputs": [],
   "source": [
    "import torch\n",
    "import io"
   ]
  },
  {
   "cell_type": "code",
   "execution_count": 6,
   "metadata": {},
   "outputs": [],
   "source": [
    "def load_vectors(fname):\n",
    "    \"\"\"\n",
    "    This function returns embedding_dict, word:embedding_vectors\n",
    "    \"\"\"\n",
    "    fin = io.open(fname, 'r', encoding='utf-8', newline='\\n', errors='ignore')\n",
    "    n, d = map(int, fin.readline().split())\n",
    "    data = {}\n",
    "    for line in fin:\n",
    "        tokens = line.rstrip().split(' ')\n",
    "        data[tokens[0]] = map(float, tokens[1:])\n",
    "    return data\n",
    "\n",
    "\n",
    "def create_embedding(words_idx, embedding_dict):\n",
    "    \"\"\"\n",
    "    :param word_idx: \n",
    "    :param embedding_dict: a dictionary with word:embedding-vectors\n",
    "    :return embedding_matrix: a dictionary with word_index:embedding_vectors\n",
    "    \"\"\"\n",
    "    \n",
    "    embedding_matrix = np.zeros(len(word_idx)+1, 300)\n",
    "    \n",
    "    for word, idx in words_idx.items():\n",
    "        \n",
    "        if word in embedding_dict:\n",
    "            embedding_matrix[idx] = embedding_dict[word]\n",
    "            \n",
    "    return embedding_matrix\n",
    "\n",
    "\n",
    "\n",
    "\n",
    "def run(fold):\n",
    "    \n",
    "    \n",
    "    \n",
    "    embedding_dict = load_vectors(\"../input/wiki-news-300d-1M.vec/wiki-news-300d-1M.vec\")\n",
    "    \n",
    "    embedding_matrix \n",
    "    \n",
    "    \n",
    "    \n",
    "    \n",
    "    "
   ]
  },
  {
   "cell_type": "code",
   "execution_count": null,
   "metadata": {},
   "outputs": [],
   "source": []
  },
  {
   "cell_type": "code",
   "execution_count": null,
   "metadata": {},
   "outputs": [],
   "source": []
  },
  {
   "cell_type": "code",
   "execution_count": null,
   "metadata": {},
   "outputs": [],
   "source": []
  },
  {
   "cell_type": "code",
   "execution_count": null,
   "metadata": {},
   "outputs": [],
   "source": []
  },
  {
   "cell_type": "code",
   "execution_count": null,
   "metadata": {},
   "outputs": [],
   "source": []
  },
  {
   "cell_type": "code",
   "execution_count": null,
   "metadata": {},
   "outputs": [],
   "source": []
  },
  {
   "cell_type": "code",
   "execution_count": null,
   "metadata": {},
   "outputs": [],
   "source": []
  }
 ],
 "metadata": {
  "kernelspec": {
   "display_name": "Python 3",
   "language": "python",
   "name": "python3"
  },
  "language_info": {
   "codemirror_mode": {
    "name": "ipython",
    "version": 3
   },
   "file_extension": ".py",
   "mimetype": "text/x-python",
   "name": "python",
   "nbconvert_exporter": "python",
   "pygments_lexer": "ipython3",
   "version": "3.6.10"
  }
 },
 "nbformat": 4,
 "nbformat_minor": 4
}
