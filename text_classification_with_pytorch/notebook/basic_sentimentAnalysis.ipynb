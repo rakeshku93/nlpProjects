{
 "cells": [
  {
   "cell_type": "markdown",
   "metadata": {},
   "source": [
    "## Basic sentiment Analysis\n",
    "**There is two solutions, first is quite reductant. Second one Abhishek's solution where he removes the duplicate words \n",
    "from the sentence using set, then use intersection method of set to pull out the common pos/neg words.**"
   ]
  },
  {
   "cell_type": "code",
   "execution_count": 1,
   "metadata": {},
   "outputs": [
    {
     "name": "stdout",
     "output_type": "stream",
     "text": [
      "Positive Sentiments\n"
     ]
    }
   ],
   "source": [
    "def find_sentiment(sentence, pos, neg):\n",
    "    pos_counter = 0\n",
    "    neg_counter = 0\n",
    "\n",
    "    for word in set(sentence.split()):\n",
    "        if word in pos:\n",
    "            pos_counter += 1\n",
    "        elif word in neg:\n",
    "            neg_counter += 1\n",
    "\n",
    "    if pos_counter > neg_counter:\n",
    "        print(\"Positive Sentiments\")\n",
    "\n",
    "    elif pos_counter < neg_counter:\n",
    "        print(\"Negative Sentiments\")\n",
    "\n",
    "    else:\n",
    "        print(\"Neutral Sentiments\")\n",
    "\n",
    "if __name__ == \"__main__\":\n",
    "    sentence = \"\"\"Served best by best remembering that it is an early template for the disaster film, \n",
    "    it's otherwise just a good old fashioned melodrama.\"\"\"\n",
    "\n",
    "    pos = (\"good\",\"best\", \"great\")\n",
    "    neg = (\"boring\", \"disaster\")\n",
    "    find_sentiment(sentence, pos, neg)"
   ]
  },
  {
   "cell_type": "markdown",
   "metadata": {},
   "source": []
  },
  {
   "cell_type": "code",
   "execution_count": 17,
   "metadata": {},
   "outputs": [
    {
     "name": "stdout",
     "output_type": "stream",
     "text": [
      "common pos words in words_in_sentence---- {'best', 'good'}\n",
      "common neg words in words_in_sentence---- {'disaster'}\n",
      "Postive sentence\n"
     ]
    }
   ],
   "source": [
    "def find_sentiment(sentence, pos, neg):\n",
    "    \"\"\"\n",
    "    sentence: sentence, string\n",
    "    pos: set of positive words\n",
    "    nos: set of negative words\n",
    "    return : returns postive, negative or neutral sentiments.\n",
    "\n",
    "    \"\"\"\n",
    "    \n",
    "    words_in_sentence = set(sentence.split())\n",
    "    # print(words_in_sentence)\n",
    "\n",
    "    print(\"common pos words in words_in_sentence----\", words_in_sentence.intersection(pos))\n",
    "    num_pos = len(words_in_sentence.intersection(pos))\n",
    "\n",
    "    print(\"common neg words in words_in_sentence----\", words_in_sentence.intersection(neg))\n",
    "    num_neg = len(words_in_sentence.intersection(neg))\n",
    "        \n",
    "    if num_pos > num_neg:\n",
    "        print(\"Postive sentence\")\n",
    "        \n",
    "    elif num_neg> num_pos:\n",
    "        print(\"Negative sentence\")\n",
    "        \n",
    "    else:\n",
    "        print(\"Netural sentence.\")\n",
    "        \n",
    "if __name__ == \"__main__\":\n",
    "    sentence = \"\"\"Served best by best remembering that it is an early template for the disaster film, \n",
    "    it's otherwise just a good old fashioned melodrama.\"\"\"\n",
    "\n",
    "    pos = (\"good\",\"best\", \"great\")\n",
    "    neg = (\"boring\", \"disaster\")\n",
    "    find_sentiment(sentence, pos, neg)"
   ]
  },
  {
   "cell_type": "code",
   "execution_count": null,
   "metadata": {},
   "outputs": [],
   "source": []
  }
 ],
 "metadata": {
  "kernelspec": {
   "display_name": "Python 3",
   "language": "python",
   "name": "python3"
  },
  "language_info": {
   "codemirror_mode": {
    "name": "ipython",
    "version": 3
   },
   "file_extension": ".py",
   "mimetype": "text/x-python",
   "name": "python",
   "nbconvert_exporter": "python",
   "pygments_lexer": "ipython3",
   "version": "3.6.10"
  }
 },
 "nbformat": 4,
 "nbformat_minor": 4
}
