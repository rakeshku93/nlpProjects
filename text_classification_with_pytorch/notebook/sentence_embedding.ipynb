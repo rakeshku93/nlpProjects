{
 "cells": [
  {
   "cell_type": "code",
   "execution_count": 2,
   "metadata": {},
   "outputs": [],
   "source": [
    "import pandas as pd\n",
    "from nltk.tokenize import word_tokenize\n",
    "from nltk.corpus import stopwords \n",
    "import re"
   ]
  },
  {
   "cell_type": "code",
   "execution_count": 3,
   "metadata": {},
   "outputs": [
    {
     "name": "stdout",
     "output_type": "stream",
     "text": [
      "179\n",
      "['i', 'me', 'my', 'myself', 'we', 'our', 'ours', 'ourselves', 'you', \"you're\", \"you've\", \"you'll\", \"you'd\", 'your', 'yours', 'yourself', 'yourselves', 'he', 'him', 'his', 'himself', 'she', \"she's\", 'her', 'hers', 'herself', 'it', \"it's\", 'its', 'itself', 'they', 'them', 'their', 'theirs', 'themselves', 'what', 'which', 'who', 'whom', 'this', 'that', \"that'll\", 'these', 'those', 'am', 'is', 'are', 'was', 'were', 'be', 'been', 'being', 'have', 'has', 'had', 'having', 'do', 'does', 'did', 'doing', 'a', 'an', 'the', 'and', 'but', 'if', 'or', 'because', 'as', 'until', 'while', 'of', 'at', 'by', 'for', 'with', 'about', 'against', 'between', 'into', 'through', 'during', 'before', 'after', 'above', 'below', 'to', 'from', 'up', 'down', 'in', 'out', 'on', 'off', 'over', 'under', 'again', 'further', 'then', 'once', 'here', 'there', 'when', 'where', 'why', 'how', 'all', 'any', 'both', 'each', 'few', 'more', 'most', 'other', 'some', 'such', 'no', 'nor', 'not', 'only', 'own', 'same', 'so', 'than', 'too', 'very', 's', 't', 'can', 'will', 'just', 'don', \"don't\", 'should', \"should've\", 'now', 'd', 'll', 'm', 'o', 're', 've', 'y', 'ain', 'aren', \"aren't\", 'couldn', \"couldn't\", 'didn', \"didn't\", 'doesn', \"doesn't\", 'hadn', \"hadn't\", 'hasn', \"hasn't\", 'haven', \"haven't\", 'isn', \"isn't\", 'ma', 'mightn', \"mightn't\", 'mustn', \"mustn't\", 'needn', \"needn't\", 'shan', \"shan't\", 'shouldn', \"shouldn't\", 'wasn', \"wasn't\", 'weren', \"weren't\", 'won', \"won't\", 'wouldn', \"wouldn't\"]\n"
     ]
    }
   ],
   "source": [
    "print(len(stopwords.words(\"english\")))\n",
    "print(stopwords.words(\"english\"))"
   ]
  },
  {
   "cell_type": "markdown",
   "metadata": {},
   "source": [
    "****"
   ]
  },
  {
   "cell_type": "markdown",
   "metadata": {},
   "source": [
    "## Calculating word-embedding for the whole sentence using word-embedding of words\n",
    "\n",
    "***In this function, we take all the individual word vectors\n",
    "in a given sentence and create a normalized word vector from all word vectors of\n",
    "the tokens. This provides us with a sentence vector.***"
   ]
  },
  {
   "cell_type": "code",
   "execution_count": 8,
   "metadata": {},
   "outputs": [],
   "source": [
    "from nltk import word_tokenize\n",
    "import numpy as np"
   ]
  },
  {
   "cell_type": "code",
   "execution_count": 4,
   "metadata": {},
   "outputs": [],
   "source": [
    "\n",
    "def sentence_vec(text, embedding_dict, stopwords, tokenizer=word_tokenize):\n",
    "    \"\"\"\n",
    "    Given a sentence and other parameters this function returns embeddings for whole sentence.\n",
    "    : param text : any input sentence\n",
    "    : param embedding_dict : dict {word:vector}\n",
    "    : param stopwords : list of stopswords\n",
    "    : param tokenizer : a tokenization func\n",
    "    \"\"\"\n",
    "    \n",
    "    # converting the text to the lower case\n",
    "    words = str(text).lower()\n",
    "    \n",
    "    # tokenization of the sentence\n",
    "    words = tokenizer(words)\n",
    "    \n",
    "    # removing the stopwords from the words \n",
    "    words = [word for word in words if word not in stopwords]\n",
    "    \n",
    "    # keeping only alpha-numeric tokens\n",
    "    words = [word for word in words if word.isalpha()]\n",
    "      \n",
    "    M = []\n",
    "    \n",
    "    for word in words:\n",
    "        # if word as key in embedding_dict then store its value in list.\n",
    "        if word in embedding_dict:\n",
    "            M.append(embedding_dict[word])\n",
    "            \n",
    "    if len(M) ==0:\n",
    "        return np.zeros(300)\n",
    "    \n",
    "    M = np.array(M)\n",
    "    \n",
    "    print(\"Array storing the embeddings\", M)\n",
    "    \n",
    "    # calculate sum along row, i.e for each sentences\n",
    "    v = M.sum(axis=0)\n",
    "    \n",
    "    # Normalizing the vector\n",
    "    return v/np.sqrt((v**2).sum())"
   ]
  },
  {
   "cell_type": "markdown",
   "metadata": {},
   "source": [
    "### understanding the above funct"
   ]
  },
  {
   "cell_type": "code",
   "execution_count": 52,
   "metadata": {},
   "outputs": [
    {
     "name": "stdout",
     "output_type": "stream",
     "text": [
      "the array--\n",
      " [[ 0.98  0.82  0.76]\n",
      " [ 0.77  0.63  0.98]\n",
      " [-0.34 -0.21 -0.11]]\n",
      "array sum along the axis i.e. along same dimensions -- [1.41 1.24 1.63]\n",
      "Normalized v-- [0.56706591 0.49869626 0.65554428]\n"
     ]
    }
   ],
   "source": [
    "embedding_dict = {\n",
    "    #                     X1,  X2,   X3.......... X300\n",
    "    \"Hello\"   :        [0.98, 0.82, 0.76],\n",
    "    \"sam\"     :        [0.77, 0.63, 0.98],\n",
    "    \"junior\"  :        [-0.34, -.21, -0.11]\n",
    "}\n",
    "\n",
    "word = \" Hello sam junior\"\n",
    "\n",
    "words = word.split()\n",
    "\n",
    "M = []\n",
    "for word in words:\n",
    "    if word in embedding_dict:\n",
    "        M.append(embedding_dict[word])\n",
    "\n",
    "M = np.array(M)\n",
    "print(\"the array--\\n\", M)\n",
    "\n",
    "# adding along the same dimension for each words (X1 for each words, X2 for each words....)\n",
    "v = M.sum(axis=0) \n",
    "print(\"array sum along the axis i.e. along same dimensions --\", v)\n",
    "\n",
    "# normalized_array = [a1, a2, a3] / sqrt(square of each-element & then sum)\n",
    "v = v/np.sqrt((v**2).sum())\n",
    "print(\"Normalized v--\", v)"
   ]
  },
  {
   "cell_type": "code",
   "execution_count": 53,
   "metadata": {},
   "outputs": [
    {
     "data": {
      "text/plain": [
       "4.279999999999999"
      ]
     },
     "execution_count": 53,
     "metadata": {},
     "output_type": "execute_result"
    }
   ],
   "source": [
    "v = M.sum(axis=0) \n",
    "v.sum()"
   ]
  },
  {
   "cell_type": "code",
   "execution_count": 54,
   "metadata": {},
   "outputs": [
    {
     "data": {
      "text/plain": [
       "2.4864834606327064"
      ]
     },
     "execution_count": 54,
     "metadata": {},
     "output_type": "execute_result"
    }
   ],
   "source": [
    "np.sqrt((v**2).sum())"
   ]
  },
  {
   "cell_type": "code",
   "execution_count": 55,
   "metadata": {},
   "outputs": [
    {
     "data": {
      "text/plain": [
       "2.06881608655772"
      ]
     },
     "execution_count": 55,
     "metadata": {},
     "output_type": "execute_result"
    }
   ],
   "source": [
    "np.sqrt(4.279999999999999)"
   ]
  },
  {
   "cell_type": "code",
   "execution_count": 59,
   "metadata": {},
   "outputs": [
    {
     "data": {
      "text/plain": [
       "2.4864834606327064"
      ]
     },
     "execution_count": 59,
     "metadata": {},
     "output_type": "execute_result"
    }
   ],
   "source": [
    "np.sqrt((v**2).sum())"
   ]
  },
  {
   "cell_type": "code",
   "execution_count": null,
   "metadata": {},
   "outputs": [],
   "source": []
  }
 ],
 "metadata": {
  "kernelspec": {
   "display_name": "Python 3",
   "language": "python",
   "name": "python3"
  },
  "language_info": {
   "codemirror_mode": {
    "name": "ipython",
    "version": 3
   },
   "file_extension": ".py",
   "mimetype": "text/x-python",
   "name": "python",
   "nbconvert_exporter": "python",
   "pygments_lexer": "ipython3",
   "version": "3.8.3"
  }
 },
 "nbformat": 4,
 "nbformat_minor": 4
}
