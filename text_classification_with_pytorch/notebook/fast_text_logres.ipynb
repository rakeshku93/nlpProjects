{
 "cells": [
  {
   "cell_type": "code",
   "execution_count": 18,
   "metadata": {},
   "outputs": [],
   "source": [
    "import io\n",
    "from nltk import word_tokenize\n",
    "from sentence_embedding import sentence_vec\n",
    "import pandas as pd\n",
    "from sklearn import model_selection\n",
    "from sklearn import linear_model\n",
    "from sklearn import metrics"
   ]
  },
  {
   "cell_type": "markdown",
   "metadata": {},
   "source": [
    "### Understanding how embedding_dict will created"
   ]
  },
  {
   "cell_type": "code",
   "execution_count": 19,
   "metadata": {},
   "outputs": [],
   "source": [
    "def understanding_load_vectors(fname):\n",
    "    ## # taken from: https://fasttext.cc/docs/en/english-vectors.html\n",
    "    fin = io.open(fname, 'r', encoding='utf-8', newline='\\n', errors='ignore')\n",
    "    n, d = map(int, fin.readline().split())\n",
    "    data = {}\n",
    "    for line in fin:\n",
    "        # tokens is the list where at 0th idx there is a word and after that there is vectors \n",
    "        tokens = line.rstrip().split(' ')\n",
    "        # storing the word as key and its corresponding 300-dimensional vectors as float\n",
    "        data[tokens[0]] = list(map(float, tokens[1:]))\n",
    "        print(len(tokens[1:]))\n",
    "        print(type(data), type(tokens))\n",
    "        print(data)\n",
    "        break"
   ]
  },
  {
   "cell_type": "code",
   "execution_count": 20,
   "metadata": {},
   "outputs": [
    {
     "name": "stdout",
     "output_type": "stream",
     "text": [
      "Loading embeddings.....\n",
      "300\n",
      "<class 'dict'> <class 'list'>\n",
      "{',': [0.1073, 0.0089, 0.0006, 0.0055, -0.0646, -0.06, 0.045, -0.0133, -0.0357, 0.043, -0.0356, -0.0032, 0.0073, -0.0001, 0.0258, -0.0166, 0.0075, 0.0686, 0.0392, 0.0753, 0.0115, -0.0087, 0.0421, 0.0265, -0.0601, 0.242, 0.0199, -0.0739, -0.0031, -0.0263, -0.0062, 0.0168, -0.0357, -0.0249, 0.019, -0.0184, -0.0537, 0.142, 0.06, 0.0226, -0.0038, -0.0675, -0.0036, -0.008, 0.057, 0.0208, 0.0223, -0.0256, -0.0153, 0.0022, -0.0482, 0.0131, -0.6016, -0.0088, 0.0106, 0.0229, 0.0336, 0.0071, 0.0887, 0.0237, -0.029, -0.0405, -0.0125, 0.0147, 0.0475, 0.0647, 0.0474, 0.0199, 0.0408, 0.0322, 0.0036, 0.035, -0.0723, -0.0305, 0.0184, -0.0026, 0.024, -0.016, -0.0308, 0.0434, 0.0147, -0.0457, -0.0267, -0.1703, -0.0099, 0.0417, 0.0235, -0.026, -0.1519, -0.0116, -0.0306, -0.0413, 0.033, 0.0723, 0.0365, -0.0001, 0.0042, 0.0346, 0.0277, -0.0305, 0.0784, -0.0404, 0.0187, -0.0225, -0.0206, -0.0179, -0.2428, 0.0669, 0.0523, 0.0527, 0.0149, -0.0708, -0.0987, 0.0263, -0.0611, 0.0302, 0.0216, 0.0313, -0.014, -0.2495, -0.0346, -0.048, 0.025, 0.213, -0.033, -0.1553, -0.0292, -0.0346, 0.1074, 0.001, -0.0117, -0.0057, -0.128, -0.0038, 0.013, -0.1157, -0.0108, 0.0275, 0.0158, -0.0169, 0.007, 0.0247, 0.051, 1.0292, -0.0283, -0.031, -0.0026, -0.0343, 0.0578, 0.0444, 0.0812, -0.0211, -0.0872, 0.0169, 0.0499, 0.0485, 0.0227, -0.0323, -0.0035, 0.0435, -0.0275, 0.0154, 0.0135, -0.0484, -0.0699, -0.0502, 0.2745, -0.0003, -0.0371, 0.0517, -0.0908, 0.0013, 0.036, 0.028, 0.0839, 0.098, -0.049, -0.2423, -0.0142, 0.0024, -0.0207, 0.0012, 0.0088, -0.0143, -0.0197, 0.0515, -0.0085, 0.0257, 0.2154, 0.0301, 0.0211, 0.053, -0.0005, 0.0177, 0.0016, -0.0053, -0.0162, -0.0223, -0.1862, 0.0398, 0.0658, -0.0962, -0.0076, -0.0075, -0.0342, -0.0265, 0.042, 0.0522, -0.0266, 0.0201, -0.1331, -0.0367, 0.0351, 0.0518, -0.0087, 0.0599, -0.1086, -0.0188, 0.0481, 0.0105, -0.006, 0.0151, -0.0031, 0.0077, -0.0276, -0.0373, -0.0203, 0.0472, 0.0246, 0.144, 0.0542, -0.0225, 0.2495, 0.1617, 0.0038, 0.1119, -0.023, -0.0785, 0.025, -0.0616, -0.0485, 0.0225, 0.0281, 0.0041, 0.0112, 0.0172, 0.0291, -0.0282, 0.0026, 0.4055, 0.0392, 0.0088, 0.0228, 0.0299, 0.1195, 0.0545, -0.002, 0.002, 0.049, 0.0145, -0.0086, 0.0098, -0.0236, 0.0171, -0.0765, -0.04, 0.0128, 0.0011, 0.0042, 0.0244, 0.0075, 0.02, 0.0201, 0.0196, -0.0377, -0.0432, -0.0073, -0.0021, 0.0183, 0.0076, 0.1805, -0.0551, 0.0075, -0.0516, 0.042, -0.0068, -0.0711, -0.1408, 0.0504, 0.0276, 0.047, 0.0323, -0.0219, 0.001, 0.0089, 0.0276, 0.0186, 0.005, 0.1173, -0.04]}\n"
     ]
    }
   ],
   "source": [
    "print(\"Loading embeddings.....\")\n",
    "embeddings = understanding_load_vectors(\"../input/wiki-news-300d-1M.vec/wiki-news-300d-1M.vec\")"
   ]
  },
  {
   "cell_type": "markdown",
   "metadata": {},
   "source": [
    "## Actual code"
   ]
  },
  {
   "cell_type": "code",
   "execution_count": 21,
   "metadata": {},
   "outputs": [],
   "source": [
    "def load_vectors(fname):\n",
    "    ## # taken from: https://fasttext.cc/docs/en/english-vectors.html\n",
    "    fin = io.open(fname, 'r', encoding='utf-8', newline='\\n', errors='ignore')\n",
    "    n, d = map(int, fin.readline().split())\n",
    "    data = {}\n",
    "    for line in fin:\n",
    "        tokens = line.rstrip().split(' ')\n",
    "        ## tokens is the list where at 0th idx there is a word and after that there is vectors  \n",
    "        data[tokens[0]] = map(float, tokens[1:])\n",
    "        \n",
    "    return data"
   ]
  },
  {
   "cell_type": "code",
   "execution_count": 22,
   "metadata": {},
   "outputs": [
    {
     "name": "stdout",
     "output_type": "stream",
     "text": [
      "Loading embeddings.....\n"
     ]
    },
    {
     "name": "stderr",
     "output_type": "stream",
     "text": [
      "\n",
      "KeyboardInterrupt\n",
      "\n"
     ]
    }
   ],
   "source": [
    "print(\"Loading embeddings.....\")\n",
    "embeddings = load_vectors(\"../input/wiki-news-300d-1M.vec/wiki-news-300d-1M.vec\")"
   ]
  },
  {
   "cell_type": "code",
   "execution_count": null,
   "metadata": {},
   "outputs": [],
   "source": [
    "embeddings[0:10]"
   ]
  },
  {
   "cell_type": "code",
   "execution_count": null,
   "metadata": {},
   "outputs": [],
   "source": [
    "df = pd.read_csv(\"../input/IMDB_Dataset.csv\")\n",
    "\n",
    "df.sentiment = df.sentiment.apply(\n",
    "    lambda x : 1 if x== \"positive\" else 0)\n",
    "\n",
    "df = df.sample(frac=1).reset_index(drop=True)\n",
    "\n",
    "print(\"Loading embeddings.....\")\n",
    "embeddings = load_vectors(\"../input/crawl-300d-2M.vec/crawl-300d-2M.vec\")\n",
    "\n",
    "print(\"Creating sentence vectors....\")\n",
    "vectors = []\n",
    "\n",
    "for review in df.review.values:\n",
    "    vectors.append(\n",
    "        sentence_vec(\n",
    "            s = review,\n",
    "            embedding_dict = embeddings,\n",
    "            stopwords = [],\n",
    "            tokenizer = word_tokenize    \n",
    "            )  \n",
    "    )\n",
    "\n",
    "# get numpy array of the list containing the sentence vectors\n",
    "vectors = np.array(vectors)\n",
    "\n",
    "y = df.sentiment.values\n",
    "\n",
    "skf = model_selection.StratifiedKFold(n_splits=5)\n",
    "\n",
    "for fold, (train_idx, test_idx) in enumerate(skf.split(X=vectors, y=y)):\n",
    "    print(\"Training folds\")\n",
    "    x_train = vectors[train_idx, :]\n",
    "    y_train = y[train_idx, :]\n",
    "    \n",
    "    x_valid = vectors[test_idx, :]\n",
    "    y_valid = y[test_idx, :]\n",
    "    \n",
    "    model = linear_model.LogisticRegression()\n",
    "    \n",
    "    model.fit(x_train, y_train)\n",
    "    \n",
    "    preds = model.predict(x_valid)\n",
    "    \n",
    "    accuracy = metrics.accuracy_score(preds, y_valid)\n",
    "    print(\"Accuracy---\", accuracy)\n",
    "    print(\" \")"
   ]
  },
  {
   "cell_type": "code",
   "execution_count": null,
   "metadata": {},
   "outputs": [],
   "source": []
  },
  {
   "cell_type": "code",
   "execution_count": null,
   "metadata": {},
   "outputs": [],
   "source": []
  },
  {
   "cell_type": "code",
   "execution_count": null,
   "metadata": {},
   "outputs": [],
   "source": []
  },
  {
   "cell_type": "code",
   "execution_count": null,
   "metadata": {},
   "outputs": [],
   "source": []
  },
  {
   "cell_type": "code",
   "execution_count": null,
   "metadata": {},
   "outputs": [],
   "source": []
  },
  {
   "cell_type": "code",
   "execution_count": null,
   "metadata": {},
   "outputs": [],
   "source": []
  },
  {
   "cell_type": "code",
   "execution_count": null,
   "metadata": {},
   "outputs": [],
   "source": []
  },
  {
   "cell_type": "code",
   "execution_count": null,
   "metadata": {},
   "outputs": [],
   "source": []
  },
  {
   "cell_type": "code",
   "execution_count": null,
   "metadata": {},
   "outputs": [],
   "source": []
  },
  {
   "cell_type": "code",
   "execution_count": null,
   "metadata": {},
   "outputs": [],
   "source": []
  },
  {
   "cell_type": "code",
   "execution_count": null,
   "metadata": {},
   "outputs": [],
   "source": []
  },
  {
   "cell_type": "code",
   "execution_count": null,
   "metadata": {},
   "outputs": [],
   "source": []
  },
  {
   "cell_type": "code",
   "execution_count": null,
   "metadata": {},
   "outputs": [],
   "source": []
  },
  {
   "cell_type": "code",
   "execution_count": null,
   "metadata": {},
   "outputs": [],
   "source": []
  },
  {
   "cell_type": "code",
   "execution_count": null,
   "metadata": {},
   "outputs": [],
   "source": []
  },
  {
   "cell_type": "code",
   "execution_count": null,
   "metadata": {},
   "outputs": [],
   "source": []
  },
  {
   "cell_type": "code",
   "execution_count": null,
   "metadata": {},
   "outputs": [],
   "source": []
  },
  {
   "cell_type": "code",
   "execution_count": null,
   "metadata": {},
   "outputs": [],
   "source": []
  },
  {
   "cell_type": "code",
   "execution_count": null,
   "metadata": {},
   "outputs": [],
   "source": []
  },
  {
   "cell_type": "code",
   "execution_count": null,
   "metadata": {},
   "outputs": [],
   "source": []
  },
  {
   "cell_type": "code",
   "execution_count": null,
   "metadata": {},
   "outputs": [],
   "source": []
  },
  {
   "cell_type": "code",
   "execution_count": null,
   "metadata": {},
   "outputs": [],
   "source": []
  },
  {
   "cell_type": "code",
   "execution_count": null,
   "metadata": {},
   "outputs": [],
   "source": []
  },
  {
   "cell_type": "code",
   "execution_count": null,
   "metadata": {},
   "outputs": [],
   "source": []
  },
  {
   "cell_type": "code",
   "execution_count": null,
   "metadata": {},
   "outputs": [],
   "source": []
  },
  {
   "cell_type": "code",
   "execution_count": null,
   "metadata": {},
   "outputs": [],
   "source": []
  }
 ],
 "metadata": {
  "kernelspec": {
   "display_name": "Python 3",
   "language": "python",
   "name": "python3"
  },
  "language_info": {
   "codemirror_mode": {
    "name": "ipython",
    "version": 3
   },
   "file_extension": ".py",
   "mimetype": "text/x-python",
   "name": "python",
   "nbconvert_exporter": "python",
   "pygments_lexer": "ipython3",
   "version": "3.6.10"
  }
 },
 "nbformat": 4,
 "nbformat_minor": 4
}
