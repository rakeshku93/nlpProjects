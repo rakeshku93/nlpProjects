{
 "cells": [
  {
   "cell_type": "code",
   "execution_count": 1,
   "metadata": {},
   "outputs": [],
   "source": [
    "import os\n",
    "import glob\n",
    "import numpy as np\n",
    "import tensorflow as tf\n",
    "from tensorflow import keras\n",
    "import matplotlib.pyplot as plt"
   ]
  },
  {
   "cell_type": "code",
   "execution_count": 2,
   "metadata": {},
   "outputs": [],
   "source": [
    "from tensorflow.keras.datasets import imdb"
   ]
  },
  {
   "cell_type": "code",
   "execution_count": 3,
   "metadata": {},
   "outputs": [],
   "source": [
    "max_words = 10000\n",
    "maxlen = 500\n",
    "training_samples = 500\n",
    "validation_samples = 10000\n",
    "\n",
    "(input_train, y_train), (input_test, y_test)= imdb.load_data(num_words=max_words)"
   ]
  },
  {
   "cell_type": "code",
   "execution_count": 4,
   "metadata": {},
   "outputs": [
    {
     "name": "stdout",
     "output_type": "stream",
     "text": [
      "Training Dataset-->>\n",
      "<class 'numpy.ndarray'>\n",
      "<class 'numpy.ndarray'>\n",
      "(25000,)\n",
      "(25000,)\n",
      "\n",
      "Test Dataset-->>\n",
      "<class 'numpy.ndarray'>\n",
      "<class 'numpy.ndarray'>\n",
      "(25000,)\n",
      "(25000,)\n"
     ]
    },
    {
     "data": {
      "text/plain": [
       "(None, None)"
      ]
     },
     "execution_count": 4,
     "metadata": {},
     "output_type": "execute_result"
    }
   ],
   "source": [
    "print(\"Training Dataset-->>\")\n",
    "print(type(input_train)), print(type(y_train))\n",
    "print(input_train.shape), print(y_train.shape)\n",
    "print(\"\\nTest Dataset-->>\")\n",
    "print(type(input_test)), print(type(y_test))\n",
    "print(input_test.shape), print(y_test.shape)"
   ]
  },
  {
   "cell_type": "code",
   "execution_count": 5,
   "metadata": {},
   "outputs": [
    {
     "name": "stdout",
     "output_type": "stream",
     "text": [
      "[1, 14, 22, 16, 43, 530, 973, 1622, 1385, 65, 458, 4468, 66, 3941, 4, 173, 36, 256, 5, 25, 100, 43, 838, 112, 50, 670, 2, 9, 35, 480, 284, 5, 150, 4, 172, 112, 167, 2, 336, 385, 39, 4, 172, 4536, 1111, 17, 546, 38, 13, 447, 4, 192, 50, 16, 6, 147, 2025, 19, 14, 22, 4, 1920, 4613, 469, 4, 22, 71, 87, 12, 16, 43, 530, 38, 76, 15, 13, 1247, 4, 22, 17, 515, 17, 12, 16, 626, 18, 2, 5, 62, 386, 12, 8, 316, 8, 106, 5, 4, 2223, 5244, 16, 480, 66, 3785, 33, 4, 130, 12, 16, 38, 619, 5, 25, 124, 51, 36, 135, 48, 25, 1415, 33, 6, 22, 12, 215, 28, 77, 52, 5, 14, 407, 16, 82, 2, 8, 4, 107, 117, 5952, 15, 256, 4, 2, 7, 3766, 5, 723, 36, 71, 43, 530, 476, 26, 400, 317, 46, 7, 4, 2, 1029, 13, 104, 88, 4, 381, 15, 297, 98, 32, 2071, 56, 26, 141, 6, 194, 7486, 18, 4, 226, 22, 21, 134, 476, 26, 480, 5, 144, 30, 5535, 18, 51, 36, 28, 224, 92, 25, 104, 4, 226, 65, 16, 38, 1334, 88, 12, 16, 283, 5, 16, 4472, 113, 103, 32, 15, 16, 5345, 19, 178, 32]\n"
     ]
    }
   ],
   "source": [
    "## Already tokenized, so just need to pad_sequences\n",
    "print(input_train[0])"
   ]
  },
  {
   "cell_type": "code",
   "execution_count": 6,
   "metadata": {},
   "outputs": [
    {
     "name": "stdout",
     "output_type": "stream",
     "text": [
      "(25000, 500)\n",
      "(25000, 500)\n"
     ]
    }
   ],
   "source": [
    "from tensorflow.keras.preprocessing import sequence\n",
    "\n",
    "x_train = sequence.pad_sequences(input_train, maxlen=maxlen)\n",
    "print(x_train.shape)\n",
    "\n",
    "\n",
    "x_test = sequence.pad_sequences(input_test, maxlen=maxlen)\n",
    "print(x_test.shape)"
   ]
  },
  {
   "cell_type": "code",
   "execution_count": 7,
   "metadata": {},
   "outputs": [
    {
     "name": "stdout",
     "output_type": "stream",
     "text": [
      "(25000, 500)\n",
      "(25000, 500)\n"
     ]
    },
    {
     "data": {
      "text/plain": [
       "(dtype('int32'),\n",
       " array([   0,    0,    0,    0,    0,    0,    0,    0,    0,    0,    0,\n",
       "           0,    0,    0,    0,    0,    0,    0,    0,    0,    0,    0,\n",
       "           0,    0,    0,    0,    0,    0,    0,    0,    1,   14,   22,\n",
       "          16,   43,  530,  973, 1622, 1385,   65,  458, 4468,   66, 3941,\n",
       "           4,  173,   36,  256,    5,   25,  100,   43,  838,  112,   50,\n",
       "         670,    2,    9,   35,  480]))"
      ]
     },
     "execution_count": 7,
     "metadata": {},
     "output_type": "execute_result"
    }
   ],
   "source": [
    "### In-general we need to make the dtype float and in range (0-1) before feeding to NN beacuse--\n",
    "# 1. Since here each idx represents a word \n",
    "# 2. Secondly we are first passing to Embedding layer which deals with this and gives float values in b/w 0-1. \n",
    "\n",
    "print(x_train.shape)\n",
    "print(x_test.shape)\n",
    "x_train.dtype, x_train[0][252:312]"
   ]
  },
  {
   "cell_type": "code",
   "execution_count": 8,
   "metadata": {},
   "outputs": [
    {
     "name": "stdout",
     "output_type": "stream",
     "text": [
      "Model: \"functional_1\"\n",
      "_________________________________________________________________\n",
      "Layer (type)                 Output Shape              Param #   \n",
      "=================================================================\n",
      "input_1 (InputLayer)         [(None, 500)]             0         \n",
      "_________________________________________________________________\n",
      "embedding (Embedding)        (None, 500, 100)          1000000   \n",
      "_________________________________________________________________\n",
      "simple_rnn (SimpleRNN)       (None, 500, 32)           4256      \n",
      "_________________________________________________________________\n",
      "simple_rnn_1 (SimpleRNN)     (None, 32)                2080      \n",
      "_________________________________________________________________\n",
      "dense (Dense)                (None, 1)                 33        \n",
      "=================================================================\n",
      "Total params: 1,006,369\n",
      "Trainable params: 1,006,369\n",
      "Non-trainable params: 0\n",
      "_________________________________________________________________\n"
     ]
    }
   ],
   "source": [
    "from tensorflow.keras import Input\n",
    "from tensorflow.keras import layers, Model\n",
    "\n",
    "embedding_dim = 100\n",
    "\n",
    "def simpleRNN(input_shape, num_clases):\n",
    "    inputs = Input(shape=input_shape)\n",
    "    \n",
    "    x = layers.Embedding(max_words, embedding_dim)(inputs)\n",
    "    x = layers.SimpleRNN(32, return_sequences=True)(x)\n",
    "    x = layers.SimpleRNN(32)(x)\n",
    "    \n",
    "    \n",
    "    \n",
    "    if num_clases ==1:\n",
    "        units = 1\n",
    "        activation = \"sigmoid\"\n",
    "        \n",
    "    else:\n",
    "        units=num_clases\n",
    "        activation = \"softmax\"\n",
    "        \n",
    "    outputs = layers.Dense(units,  activation=activation)(x)\n",
    "    \n",
    "    return Model(inputs, outputs)\n",
    "\n",
    "model = simpleRNN((maxlen,), num_clases=1)\n",
    "model.summary()"
   ]
  },
  {
   "cell_type": "code",
   "execution_count": 9,
   "metadata": {},
   "outputs": [
    {
     "name": "stdout",
     "output_type": "stream",
     "text": [
      "Epoch 1/10\n",
      "157/157 [==============================] - 68s 433ms/step - loss: 0.5160 - acc: 0.7312 - val_loss: 0.4277 - val_acc: 0.8110\n",
      "Epoch 2/10\n",
      "157/157 [==============================] - 64s 405ms/step - loss: 0.2989 - acc: 0.8799 - val_loss: 0.4359 - val_acc: 0.8040\n",
      "Epoch 3/10\n",
      "157/157 [==============================] - 65s 413ms/step - loss: 0.1759 - acc: 0.9363 - val_loss: 0.4218 - val_acc: 0.8294\n",
      "Epoch 4/10\n",
      "157/157 [==============================] - 68s 433ms/step - loss: 0.0758 - acc: 0.9745 - val_loss: 0.6705 - val_acc: 0.7772\n",
      "Epoch 5/10\n",
      "157/157 [==============================] - 69s 442ms/step - loss: 0.0321 - acc: 0.9901 - val_loss: 0.7214 - val_acc: 0.8440\n",
      "Epoch 6/10\n",
      "157/157 [==============================] - 69s 441ms/step - loss: 0.0159 - acc: 0.9951 - val_loss: 0.9085 - val_acc: 0.7656\n",
      "Epoch 7/10\n",
      "157/157 [==============================] - 69s 437ms/step - loss: 0.0097 - acc: 0.9970 - val_loss: 0.9029 - val_acc: 0.7952\n",
      "Epoch 8/10\n",
      "157/157 [==============================] - 70s 447ms/step - loss: 0.0070 - acc: 0.9976 - val_loss: 0.9870 - val_acc: 0.7968\n",
      "Epoch 9/10\n",
      "157/157 [==============================] - 70s 449ms/step - loss: 0.0066 - acc: 0.9979 - val_loss: 1.0514 - val_acc: 0.7848\n",
      "Epoch 10/10\n",
      "157/157 [==============================] - 70s 446ms/step - loss: 0.0033 - acc: 0.9990 - val_loss: 1.2180 - val_acc: 0.7666\n"
     ]
    }
   ],
   "source": [
    "model.compile(\n",
    "    optimizer='rmsprop',\n",
    "    loss=\"binary_crossentropy\",\n",
    "    metrics=[\"acc\"],\n",
    ")\n",
    "\n",
    "# my_callbacks = [\n",
    "#     tf.keras.callbacks.EarlyStopping(patience=3),\n",
    "#     tf.keras.callbacks.ModelCheckpoint(\"../models/simpleRNN.{epoch:02d}_{val_acc:.2f}.h5\")\n",
    "# ]\n",
    "\n",
    "history = model.fit(\n",
    "    x_train, y_train,\n",
    "    batch_size=128,\n",
    "    epochs=10,\n",
    "    verbose=1,\n",
    "    validation_split=0.2,\n",
    "\n",
    ")"
   ]
  },
  {
   "cell_type": "code",
   "execution_count": null,
   "metadata": {},
   "outputs": [],
   "source": []
  }
 ],
 "metadata": {
  "kernelspec": {
   "display_name": "Python 3",
   "language": "python",
   "name": "python3"
  },
  "language_info": {
   "codemirror_mode": {
    "name": "ipython",
    "version": 3
   },
   "file_extension": ".py",
   "mimetype": "text/x-python",
   "name": "python",
   "nbconvert_exporter": "python",
   "pygments_lexer": "ipython3",
   "version": "3.6.10"
  }
 },
 "nbformat": 4,
 "nbformat_minor": 4
}
