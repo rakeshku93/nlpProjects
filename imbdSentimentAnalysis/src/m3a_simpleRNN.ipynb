{
 "cells": [
  {
   "cell_type": "code",
   "execution_count": 1,
   "metadata": {},
   "outputs": [],
   "source": [
    "import os\n",
    "import glob\n",
    "import numpy as np\n",
    "import tensorflow as tf\n",
    "from tensorflow import keras\n",
    "import matplotlib.pyplot as plt"
   ]
  },
  {
   "cell_type": "code",
   "execution_count": 2,
   "metadata": {},
   "outputs": [],
   "source": [
    "from tensorflow.keras.datasets import imdb"
   ]
  },
  {
   "cell_type": "code",
   "execution_count": 3,
   "metadata": {},
   "outputs": [],
   "source": [
    "max_words = 10000\n",
    "maxlen = 500\n",
    "training_samples = 500\n",
    "validation_samples = 10000\n",
    "\n",
    "(input_train, y_train), (input_test, y_test)= imdb.load_data(num_words=max_words)"
   ]
  },
  {
   "cell_type": "code",
   "execution_count": 4,
   "metadata": {},
   "outputs": [
    {
     "name": "stdout",
     "output_type": "stream",
     "text": [
      "Training Dataset-->>\n",
      "<class 'numpy.ndarray'>\n",
      "<class 'numpy.ndarray'>\n",
      "(25000,)\n",
      "(25000,)\n",
      "\n",
      "Test Dataset-->>\n",
      "<class 'numpy.ndarray'>\n",
      "<class 'numpy.ndarray'>\n",
      "(25000,)\n",
      "(25000,)\n"
     ]
    },
    {
     "data": {
      "text/plain": [
       "(None, None)"
      ]
     },
     "execution_count": 4,
     "metadata": {},
     "output_type": "execute_result"
    }
   ],
   "source": [
    "print(\"Training Dataset-->>\")\n",
    "print(type(input_train)), print(type(y_train))\n",
    "print(input_train.shape), print(y_train.shape)\n",
    "print(\"\\nTest Dataset-->>\")\n",
    "print(type(input_test)), print(type(y_test))\n",
    "print(input_test.shape), print(y_test.shape)"
   ]
  },
  {
   "cell_type": "code",
   "execution_count": 5,
   "metadata": {},
   "outputs": [
    {
     "name": "stdout",
     "output_type": "stream",
     "text": [
      "[1, 14, 22, 16, 43, 530, 973, 1622, 1385, 65, 458, 4468, 66, 3941, 4, 173, 36, 256, 5, 25, 100, 43, 838, 112, 50, 670, 2, 9, 35, 480, 284, 5, 150, 4, 172, 112, 167, 2, 336, 385, 39, 4, 172, 4536, 1111, 17, 546, 38, 13, 447, 4, 192, 50, 16, 6, 147, 2025, 19, 14, 22, 4, 1920, 4613, 469, 4, 22, 71, 87, 12, 16, 43, 530, 38, 76, 15, 13, 1247, 4, 22, 17, 515, 17, 12, 16, 626, 18, 2, 5, 62, 386, 12, 8, 316, 8, 106, 5, 4, 2223, 5244, 16, 480, 66, 3785, 33, 4, 130, 12, 16, 38, 619, 5, 25, 124, 51, 36, 135, 48, 25, 1415, 33, 6, 22, 12, 215, 28, 77, 52, 5, 14, 407, 16, 82, 2, 8, 4, 107, 117, 5952, 15, 256, 4, 2, 7, 3766, 5, 723, 36, 71, 43, 530, 476, 26, 400, 317, 46, 7, 4, 2, 1029, 13, 104, 88, 4, 381, 15, 297, 98, 32, 2071, 56, 26, 141, 6, 194, 7486, 18, 4, 226, 22, 21, 134, 476, 26, 480, 5, 144, 30, 5535, 18, 51, 36, 28, 224, 92, 25, 104, 4, 226, 65, 16, 38, 1334, 88, 12, 16, 283, 5, 16, 4472, 113, 103, 32, 15, 16, 5345, 19, 178, 32]\n"
     ]
    }
   ],
   "source": [
    "## Already tokenized, so just need to pad_sequences\n",
    "print(input_train[0])"
   ]
  },
  {
   "cell_type": "markdown",
   "metadata": {},
   "source": [
    "### Preparing training dataset -- Already tokenized, so just need to pad_sequences"
   ]
  },
  {
   "cell_type": "code",
   "execution_count": 7,
   "metadata": {},
   "outputs": [
    {
     "name": "stdout",
     "output_type": "stream",
     "text": [
      "(25000, 500)\n",
      "(25000, 500)\n"
     ]
    }
   ],
   "source": [
    "from tensorflow.keras.preprocessing import sequence\n",
    "\n",
    "x_train = sequence.pad_sequences(input_train, maxlen=maxlen)\n",
    "print(x_train.shape)\n",
    "\n",
    "\n",
    "x_test = sequence.pad_sequences(input_test, maxlen=maxlen)\n",
    "print(x_test.shape)"
   ]
  },
  {
   "cell_type": "code",
   "execution_count": null,
   "metadata": {},
   "outputs": [],
   "source": [
    "### In-general we need to make the dtype float and in range (0-1) before feeding to NN beacuse--\n",
    "# 1. Since here each idx represents a word \n",
    "# 2. Secondly we are first passing to Embedding layer which deals with this and gives float values in b/w 0-1. "
   ]
  },
  {
   "cell_type": "code",
   "execution_count": null,
   "metadata": {},
   "outputs": [],
   "source": [
    "print(x_train.shape)\n",
    "print(x_test.shape)\n",
    "x_train.dtype, x_train[0][252:312]"
   ]
  },
  {
   "cell_type": "markdown",
   "metadata": {},
   "source": [
    "## Model Framework"
   ]
  },
  {
   "cell_type": "code",
   "execution_count": null,
   "metadata": {},
   "outputs": [],
   "source": [
    "max_words, maxlen"
   ]
  },
  {
   "cell_type": "code",
   "execution_count": 9,
   "metadata": {},
   "outputs": [
    {
     "name": "stdout",
     "output_type": "stream",
     "text": [
      "Model: \"functional_1\"\n",
      "_________________________________________________________________\n",
      "Layer (type)                 Output Shape              Param #   \n",
      "=================================================================\n",
      "input_1 (InputLayer)         [(None, 500)]             0         \n",
      "_________________________________________________________________\n",
      "embedding (Embedding)        (None, 500, 100)          1000000   \n",
      "_________________________________________________________________\n",
      "simple_rnn (SimpleRNN)       (None, 32)                4256      \n",
      "_________________________________________________________________\n",
      "dense (Dense)                (None, 1)                 33        \n",
      "=================================================================\n",
      "Total params: 1,004,289\n",
      "Trainable params: 1,004,289\n",
      "Non-trainable params: 0\n",
      "_________________________________________________________________\n"
     ]
    }
   ],
   "source": [
    "from tensorflow.keras import Input\n",
    "from tensorflow.keras import layers, Model\n",
    "\n",
    "embedding_dim = 100\n",
    "\n",
    "def simpleRNN(input_shape, num_clases):\n",
    "    inputs = Input(shape=input_shape)\n",
    "    \n",
    "    x = layers.Embedding(max_words, embedding_dim)(inputs)\n",
    "    x = layers.SimpleRNN(32)(x)\n",
    "    \n",
    "    if num_clases ==1:\n",
    "        units = 1\n",
    "        activation = \"sigmoid\"\n",
    "        \n",
    "    else:\n",
    "        units=num_clases\n",
    "        activation = \"softmax\"\n",
    "        \n",
    "    outputs = layers.Dense(units,  activation=activation)(x)\n",
    "    \n",
    "    return Model(inputs, outputs)\n",
    "\n",
    "model = simpleRNN((maxlen,), num_clases=1)\n",
    "model.summary()"
   ]
  },
  {
   "cell_type": "code",
   "execution_count": 12,
   "metadata": {},
   "outputs": [
    {
     "name": "stdout",
     "output_type": "stream",
     "text": [
      "Epoch 1/10\n",
      "157/157 [==============================] - 41s 261ms/step - loss: 0.3452 - acc: 0.8557 - val_loss: 0.3562 - val_acc: 0.8464\n",
      "Epoch 2/10\n",
      "157/157 [==============================] - 40s 253ms/step - loss: 0.2633 - acc: 0.8949 - val_loss: 0.3714 - val_acc: 0.8544\n",
      "Epoch 3/10\n",
      "157/157 [==============================] - 44s 279ms/step - loss: 0.1959 - acc: 0.9280 - val_loss: 0.3776 - val_acc: 0.8538\n",
      "Epoch 4/10\n",
      "157/157 [==============================] - 42s 269ms/step - loss: 0.1200 - acc: 0.9589 - val_loss: 0.4285 - val_acc: 0.8618\n",
      "Epoch 5/10\n",
      "157/157 [==============================] - 42s 268ms/step - loss: 0.0709 - acc: 0.9768 - val_loss: 0.5884 - val_acc: 0.8194\n",
      "Epoch 6/10\n",
      "157/157 [==============================] - 41s 263ms/step - loss: 0.0411 - acc: 0.9884 - val_loss: 0.8231 - val_acc: 0.7022\n",
      "Epoch 7/10\n",
      "157/157 [==============================] - 43s 272ms/step - loss: 0.0250 - acc: 0.9933 - val_loss: 0.6170 - val_acc: 0.8186\n",
      "Epoch 8/10\n",
      "157/157 [==============================] - 43s 274ms/step - loss: 0.0170 - acc: 0.9955 - val_loss: 0.7527 - val_acc: 0.7794\n",
      "Epoch 9/10\n",
      "157/157 [==============================] - 42s 268ms/step - loss: 0.0138 - acc: 0.9961 - val_loss: 1.4923 - val_acc: 0.6358\n",
      "Epoch 10/10\n",
      "157/157 [==============================] - 41s 258ms/step - loss: 0.0136 - acc: 0.9954 - val_loss: 0.9213 - val_acc: 0.7480\n"
     ]
    }
   ],
   "source": [
    "model.compile(\n",
    "    optimizer='rmsprop',\n",
    "    loss=\"binary_crossentropy\",\n",
    "    metrics=[\"acc\"],\n",
    ")\n",
    "\n",
    "# my_callbacks = [\n",
    "#     tf.keras.callbacks.EarlyStopping(patience=3),\n",
    "#     tf.keras.callbacks.ModelCheckpoint(\"../models/simpleRNN.{epoch:02d}_{val_acc:.2f}.h5\")\n",
    "# ]\n",
    "\n",
    "history = model.fit(\n",
    "    x_train, y_train,\n",
    "    batch_size=128,\n",
    "    epochs=10,\n",
    "    verbose=1,\n",
    "    validation_split=0.2,\n",
    "\n",
    ")"
   ]
  },
  {
   "cell_type": "code",
   "execution_count": null,
   "metadata": {},
   "outputs": [],
   "source": []
  },
  {
   "cell_type": "markdown",
   "metadata": {},
   "source": [
    "## Plotting the graph"
   ]
  },
  {
   "cell_type": "code",
   "execution_count": 18,
   "metadata": {},
   "outputs": [
    {
     "data": {
      "image/png": "[encoded data removed]",
      "text/plain": [
       "<Figure size 432x288 with 1 Axes>"
      ]
     },
     "metadata": {
      "needs_background": "light"
     },
     "output_type": "display_data"
    },
    {
     "data": {
      "image/png": "[encoded data removed]",
      "text/plain": [
       "<Figure size 432x288 with 1 Axes>"
      ]
     },
     "metadata": {
      "needs_background": "light"
     },
     "output_type": "display_data"
    }
   ],
   "source": [
    "train_acc = history.history[\"acc\"]\n",
    "val_acc = history.history[\"val_acc\"]\n",
    "\n",
    "train_loss = history.history[\"loss\"]\n",
    "val_loss = history.history[\"val_loss\"]\n",
    "\n",
    "epochs = range(1, len(train_loss)+1)\n",
    "\n",
    "plt.title(\"Training vs Validation Loss\")\n",
    "plt.plot(epochs, train_loss, \"bo\", label=\"Training Loss\")\n",
    "plt.plot(epochs, val_loss, \"-\", label=\"Validation Loss\")\n",
    "plt.legend()\n",
    "plt.show()\n",
    "\n",
    "plt.title(\"Training vs Validation Accuracy\")\n",
    "plt.plot(epochs, train_acc, \"bo\", label=\"Training Accuracy\")\n",
    "plt.plot(epochs, val_acc, \"-\", label=\"Validation Accuracy\")\n",
    "plt.legend()\n",
    "plt.show()\n",
    "\n"
   ]
  },
  {
   "cell_type": "code",
   "execution_count": null,
   "metadata": {},
   "outputs": [],
   "source": []
  },
  {
   "cell_type": "code",
   "execution_count": null,
   "metadata": {},
   "outputs": [],
   "source": []
  },
  {
   "cell_type": "code",
   "execution_count": null,
   "metadata": {},
   "outputs": [],
   "source": []
  },
  {
   "cell_type": "code",
   "execution_count": null,
   "metadata": {},
   "outputs": [],
   "source": []
  },
  {
   "cell_type": "code",
   "execution_count": null,
   "metadata": {},
   "outputs": [],
   "source": [
    "# idxs = np.arange(sequences.shape[0])\n",
    "# np.random.shuffle(idxs)\n",
    "# idxs"
   ]
  },
  {
   "cell_type": "code",
   "execution_count": null,
   "metadata": {},
   "outputs": [],
   "source": [
    "# x_ts = sequences[:training_samples]\n",
    "# y_ts = y_train[:training_samples]\n",
    "\n",
    "# x_vals = sequences[training_samples: training_samples+validation_samples]\n",
    "# y_vals = y_train[training_samples: training_samples+validation_samples]"
   ]
  },
  {
   "cell_type": "code",
   "execution_count": null,
   "metadata": {},
   "outputs": [],
   "source": [
    "# print(\"Training Dataset-->>\")\n",
    "# print(type(x_ts)), print(type(y_ts))\n",
    "# print(x_ts.shape), print(y_ts.shape)\n",
    "# print(\"\\nTest Dataset-->>\")\n",
    "# print(type(x_vals)), \n",
    "# print(type(y_vals))\n",
    "# print(x_vals.shape),\n",
    "# print(y_vals.shape)"
   ]
  },
  {
   "cell_type": "code",
   "execution_count": null,
   "metadata": {},
   "outputs": [],
   "source": []
  },
  {
   "cell_type": "markdown",
   "metadata": {},
   "source": [
    "## Model Framework"
   ]
  },
  {
   "cell_type": "code",
   "execution_count": null,
   "metadata": {},
   "outputs": [],
   "source": [
    "x_ts.shape[1], maxlen"
   ]
  },
  {
   "cell_type": "code",
   "execution_count": null,
   "metadata": {},
   "outputs": [],
   "source": []
  },
  {
   "cell_type": "code",
   "execution_count": null,
   "metadata": {},
   "outputs": [],
   "source": []
  },
  {
   "cell_type": "code",
   "execution_count": null,
   "metadata": {},
   "outputs": [],
   "source": []
  }
 ],
 "metadata": {
  "kernelspec": {
   "display_name": "Python 3",
   "language": "python",
   "name": "python3"
  },
  "language_info": {
   "codemirror_mode": {
    "name": "ipython",
    "version": 3
   },
   "file_extension": ".py",
   "mimetype": "text/x-python",
   "name": "python",
   "nbconvert_exporter": "python",
   "pygments_lexer": "ipython3",
   "version": "3.6.10"
  }
 },
 "nbformat": 4,
 "nbformat_minor": 4
}
